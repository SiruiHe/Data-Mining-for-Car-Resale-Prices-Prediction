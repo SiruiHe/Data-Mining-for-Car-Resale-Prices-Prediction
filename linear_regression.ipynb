{
 "cells": [
  {
   "cell_type": "code",
   "execution_count": 1,
   "metadata": {},
   "outputs": [
    {
     "name": "stdout",
     "output_type": "stream",
     "text": [
      "Dataset loading completed\n",
      "Training set size: (20000, 74)\n",
      "Validation set size: (5000, 74)\n",
      "Full training set size: (25000, 74)\n",
      "Test set size: (10000, 74)\n"
     ]
    }
   ],
   "source": [
    "import pandas as pd\n",
    "import numpy as np\n",
    "import pandas as pd\n",
    "from sklearn.linear_model import LinearRegression\n",
    "from sklearn.metrics import mean_squared_error, r2_score\n",
    "import json\n",
    "import math\n",
    "\n",
    "# Load processed datasets\n",
    "X_train = pd.read_csv('data/processed/X_train.csv')\n",
    "y_train = pd.read_csv('data/processed/y_train.csv')\n",
    "X_valid = pd.read_csv('data/processed/X_valid.csv')\n",
    "y_valid = pd.read_csv('data/processed/y_valid.csv') \n",
    "X_train_full = pd.read_csv('data/processed/X_train_full.csv') \n",
    "y_train_full = pd.read_csv('data/processed/y_train_full.csv') \n",
    "X_test = pd.read_csv('data/processed/X_test.csv')\n",
    "\n",
    "print('Dataset loading completed')\n",
    "print(f'Training set size: {X_train.shape}')\n",
    "print(f'Validation set size: {X_valid.shape}')\n",
    "print(f'Full training set size: {X_train_full.shape}')\n",
    "print(f'Test set size: {X_test.shape}')\n"
   ]
  },
  {
   "cell_type": "code",
   "execution_count": 2,
   "metadata": {},
   "outputs": [],
   "source": [
    "cat_nu_cols = [\"manufactured\", \"curb_weight\", \"power\", \"engine_cap\", \"no_of_owners\", \"depreciation\", \"coe\", \"road_tax\", \"dereg_value\", \"mileage\", \"omv\", \"arf\", \"make_target_encoded\", \"-\", \"almost new car\", \"coe car\", \"consignment car\", \"direct owner sale\", \"electric cars\", \"hybrid cars\", \"imported used vehicle\", \"low mileage car\", \"opc car\", \"parf car\", \"premium ad car\", \"rare & exotic\", \"sgcarmart warranty cars\", \"sta evaluated car\", \"vintage cars\", \"type_of_vehicle_bus/mini bus\", \"type_of_vehicle_hatchback\", \"type_of_vehicle_luxury sedan\", \"type_of_vehicle_mid-sized sedan\", \"type_of_vehicle_mpv\", \"type_of_vehicle_others\", \"type_of_vehicle_sports car\", \"type_of_vehicle_stationwagon\", \"type_of_vehicle_suv\", \"type_of_vehicle_truck\", \"type_of_vehicle_van\", \"fuel_type_diesel\", \"fuel_type_diesel-electric\", \"fuel_type_electric\", \"fuel_type_petrol\", \"fuel_type_petrol-electric\", \"fuel_type_nan\", \"transmission_manual\", \"year\", \"month\"]\n",
    "cat_log_cols = [\"manufactured\", \"curb_weight\", \"power_log\", \"engine_cap_log\", \"depreciation_log\", \"coe\", \"road_tax_log\", \"dereg_value_log\", \"mileage_log\", \"omv_log\", \"arf_log\", \"make_target_encoded\", \"-\", \"almost new car\", \"coe car\", \"consignment car\", \"direct owner sale\", \"electric cars\", \"hybrid cars\", \"imported used vehicle\", \"low mileage car\", \"opc car\", \"parf car\", \"premium ad car\", \"rare & exotic\", \"sgcarmart warranty cars\", \"sta evaluated car\", \"vintage cars\", \"type_of_vehicle_bus/mini bus\", \"type_of_vehicle_hatchback\", \"type_of_vehicle_luxury sedan\", \"type_of_vehicle_mid-sized sedan\", \"type_of_vehicle_mpv\", \"type_of_vehicle_others\", \"type_of_vehicle_sports car\", \"type_of_vehicle_stationwagon\", \"type_of_vehicle_suv\", \"type_of_vehicle_truck\", \"type_of_vehicle_van\", \"fuel_type_diesel\", \"fuel_type_diesel-electric\", \"fuel_type_electric\", \"fuel_type_petrol\", \"fuel_type_petrol-electric\", \"fuel_type_nan\", \"transmission_manual\", \"year\", \"month\"]\n",
    "cat_root_cols = [\"manufactured\", \"curb_weight\", \"power_root\", \"engine_cap_root\", \"depreciation_root\", \"coe\", \"road_tax_root\", \"dereg_value_root\", \"mileage_root\", \"omv_root\", \"arf_root\", \"make_target_encoded\", \"-\", \"almost new car\", \"coe car\", \"consignment car\", \"direct owner sale\", \"electric cars\", \"hybrid cars\", \"imported used vehicle\", \"low mileage car\", \"opc car\", \"parf car\", \"premium ad car\", \"rare & exotic\", \"sgcarmart warranty cars\", \"sta evaluated car\", \"vintage cars\", \"type_of_vehicle_bus/mini bus\", \"type_of_vehicle_hatchback\", \"type_of_vehicle_luxury sedan\", \"type_of_vehicle_mid-sized sedan\", \"type_of_vehicle_mpv\", \"type_of_vehicle_others\", \"type_of_vehicle_sports car\", \"type_of_vehicle_stationwagon\", \"type_of_vehicle_suv\", \"type_of_vehicle_truck\", \"type_of_vehicle_van\", \"fuel_type_diesel\", \"fuel_type_diesel-electric\", \"fuel_type_electric\", \"fuel_type_petrol\", \"fuel_type_petrol-electric\", \"fuel_type_nan\", \"transmission_manual\", \"year\", \"month\"]"
   ]
  },
  {
   "cell_type": "markdown",
   "metadata": {},
   "source": [
    "## Linear Regression"
   ]
  },
  {
   "cell_type": "code",
   "execution_count": 5,
   "metadata": {},
   "outputs": [
    {
     "name": "stdout",
     "output_type": "stream",
     "text": [
      "Mean Squared Error: 2008633185.7968688\n",
      "Root Mean Squared Error: 44817.77756423079\n",
      "R² Score: 0.8991988616805334\n",
      "Mean Squared Error: 5125955541.911455\n",
      "Root Mean Squared Error: 71595.77879953157\n",
      "R² Score: 0.7170071063213633\n",
      "Mean Squared Error: 3148132363.9588394\n",
      "Root Mean Squared Error: 56108.22011041555\n",
      "R² Score: 0.8376482844958328\n"
     ]
    }
   ],
   "source": [
    "'''\n",
    "Test performance of original data and transformed data on Linear Regression\n",
    "'''\n",
    "\n",
    "for li in [cat_nu_cols, cat_log_cols, cat_root_cols]:\n",
    "    # Assuming 'data' is your DataFrame and 'target' is the name of your target variable\n",
    "    X = X_train[li]  # Features\n",
    "    y = y_train       # Target variable\n",
    "\n",
    "    # Creating the linear regression model\n",
    "    model = LinearRegression()\n",
    "\n",
    "    # Fitting the model\n",
    "    model.fit(X, y)\n",
    "\n",
    "    # Making predictions\n",
    "    y_valid_pred = model.predict(X_valid[li])\n",
    "\n",
    "    # Calculating the performance metrics\n",
    "    mse = mean_squared_error(y_valid_pred, y_valid)\n",
    "    r2 = r2_score(y_valid_pred, y_valid)\n",
    "    # Calculating the RMSE\n",
    "    rmse = math.sqrt(mse)\n",
    "\n",
    "    # Printing the MSE, RMSE, and R² Score\n",
    "    print(f'Mean Squared Error: {mse}')\n",
    "    print(f'Root Mean Squared Error: {rmse}')\n",
    "    print(f'R² Score: {r2}')"
   ]
  }
 ],
 "metadata": {
  "kernelspec": {
   "display_name": "base",
   "language": "python",
   "name": "python3"
  },
  "language_info": {
   "codemirror_mode": {
    "name": "ipython",
    "version": 3
   },
   "file_extension": ".py",
   "mimetype": "text/x-python",
   "name": "python",
   "nbconvert_exporter": "python",
   "pygments_lexer": "ipython3",
   "version": "3.10.14"
  }
 },
 "nbformat": 4,
 "nbformat_minor": 2
}
